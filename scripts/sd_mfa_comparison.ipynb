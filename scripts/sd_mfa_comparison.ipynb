{
 "cells": [
  {
   "cell_type": "code",
   "execution_count": 13,
   "id": "08eb96a0",
   "metadata": {},
   "outputs": [],
   "source": [
    "import flodym as fd\n",
    "import sys\n",
    "sys.path.append('..')"
   ]
  },
  {
   "cell_type": "code",
   "execution_count": null,
   "id": "4e356406",
   "metadata": {},
   "outputs": [],
   "source": [
    "# here, I can run the \"standard\" and SD cement (concrete) MFA and compare the differences"
   ]
  },
  {
   "cell_type": "code",
   "execution_count": 17,
   "id": "24281123",
   "metadata": {},
   "outputs": [
    {
     "ename": "KeyError",
     "evalue": "'Structure'",
     "output_type": "error",
     "traceback": [
      "\u001b[31m---------------------------------------------------------------------------\u001b[39m",
      "\u001b[31mKeyError\u001b[39m                                  Traceback (most recent call last)",
      "\u001b[36mCell\u001b[39m\u001b[36m \u001b[39m\u001b[32mIn[17]\u001b[39m\u001b[32m, line 5\u001b[39m\n\u001b[32m      2\u001b[39m \u001b[38;5;28;01mfrom\u001b[39;00m\u001b[38;5;250m \u001b[39m\u001b[34;01mrun_remind_mfa\u001b[39;00m\u001b[38;5;250m \u001b[39m\u001b[38;5;28;01mimport\u001b[39;00m run_remind_mfa\n\u001b[32m      4\u001b[39m cfg_file = \u001b[33m\"\u001b[39m\u001b[33m../config/cement.yml\u001b[39m\u001b[33m\"\u001b[39m\n\u001b[32m----> \u001b[39m\u001b[32m5\u001b[39m \u001b[43mrun_remind_mfa\u001b[49m\u001b[43m(\u001b[49m\u001b[43mcfg_file\u001b[49m\u001b[43m)\u001b[49m\n",
      "\u001b[36mFile \u001b[39m\u001b[32mc:\\Users\\bennetwe\\Documents\\Code\\remind-mfa\\scripts\\..\\run_remind_mfa.py:48\u001b[39m, in \u001b[36mrun_remind_mfa\u001b[39m\u001b[34m(cfg_file)\u001b[39m\n\u001b[32m     41\u001b[39m logging.basicConfig(\n\u001b[32m     42\u001b[39m     \u001b[38;5;28mformat\u001b[39m=\u001b[33m\"\u001b[39m\u001b[38;5;132;01m%(asctime)s\u001b[39;00m\u001b[33m \u001b[39m\u001b[38;5;132;01m%(levelname)-8s\u001b[39;00m\u001b[33m \u001b[39m\u001b[38;5;132;01m%(message)s\u001b[39;00m\u001b[33m\"\u001b[39m,\n\u001b[32m     43\u001b[39m     level=logging.INFO,\n\u001b[32m     44\u001b[39m     datefmt=\u001b[33m\"\u001b[39m\u001b[33m%\u001b[39m\u001b[33mY-\u001b[39m\u001b[33m%\u001b[39m\u001b[33mm-\u001b[39m\u001b[38;5;132;01m%d\u001b[39;00m\u001b[33m \u001b[39m\u001b[33m%\u001b[39m\u001b[33mH:\u001b[39m\u001b[33m%\u001b[39m\u001b[33mM:\u001b[39m\u001b[33m%\u001b[39m\u001b[33mS\u001b[39m\u001b[33m\"\u001b[39m,\n\u001b[32m     45\u001b[39m )\n\u001b[32m     47\u001b[39m model_config = get_model_config(cfg_file)\n\u001b[32m---> \u001b[39m\u001b[32m48\u001b[39m \u001b[43mcalculate_model\u001b[49m\u001b[43m(\u001b[49m\u001b[43mmodel_config\u001b[49m\u001b[43m)\u001b[49m\n",
      "\u001b[36mFile \u001b[39m\u001b[32mc:\\Users\\bennetwe\\Documents\\Code\\remind-mfa\\scripts\\..\\run_remind_mfa.py:34\u001b[39m, in \u001b[36mcalculate_model\u001b[39m\u001b[34m(model_config)\u001b[39m\n\u001b[32m     33\u001b[39m \u001b[38;5;28;01mdef\u001b[39;00m\u001b[38;5;250m \u001b[39m\u001b[34mcalculate_model\u001b[39m(model_config):\n\u001b[32m---> \u001b[39m\u001b[32m34\u001b[39m     mfa = \u001b[43minit_model\u001b[49m\u001b[43m(\u001b[49m\u001b[43mcfg\u001b[49m\u001b[43m=\u001b[49m\u001b[43mmodel_config\u001b[49m\u001b[43m)\u001b[49m\n\u001b[32m     35\u001b[39m     logging.info(\u001b[33mf\u001b[39m\u001b[33m\"\u001b[39m\u001b[38;5;132;01m{\u001b[39;00m\u001b[38;5;28mtype\u001b[39m(mfa).\u001b[34m__name__\u001b[39m\u001b[38;5;132;01m}\u001b[39;00m\u001b[33m instance created.\u001b[39m\u001b[33m\"\u001b[39m)\n\u001b[32m     36\u001b[39m     mfa.run()\n",
      "\u001b[36mFile \u001b[39m\u001b[32mc:\\Users\\bennetwe\\Documents\\Code\\remind-mfa\\scripts\\..\\run_remind_mfa.py:29\u001b[39m, in \u001b[36minit_model\u001b[39m\u001b[34m(cfg)\u001b[39m\n\u001b[32m     26\u001b[39m \u001b[38;5;250m\u001b[39m\u001b[33;03m\"\"\"Choose MFA subclass and return an initialized instance.\"\"\"\u001b[39;00m\n\u001b[32m     28\u001b[39m cfg = GeneralCfg.from_model_class(**cfg)\n\u001b[32m---> \u001b[39m\u001b[32m29\u001b[39m mfa = \u001b[43mmodels\u001b[49m\u001b[43m[\u001b[49m\u001b[43mcfg\u001b[49m\u001b[43m.\u001b[49m\u001b[43mmodel_class\u001b[49m\u001b[43m]\u001b[49m\u001b[43m(\u001b[49m\u001b[43mcfg\u001b[49m\u001b[43m=\u001b[49m\u001b[43mcfg\u001b[49m\u001b[43m)\u001b[49m\n\u001b[32m     30\u001b[39m \u001b[38;5;28;01mreturn\u001b[39;00m mfa\n",
      "\u001b[36mFile \u001b[39m\u001b[32mc:\\Users\\bennetwe\\Documents\\Code\\remind-mfa\\scripts\\..\\remind_mfa\\cement\\cement_model.py:22\u001b[39m, in \u001b[36mCementModel.__init__\u001b[39m\u001b[34m(self, cfg)\u001b[39m\n\u001b[32m     20\u001b[39m \u001b[38;5;28mself\u001b[39m.cfg = cfg\n\u001b[32m     21\u001b[39m \u001b[38;5;28mself\u001b[39m.definition = get_definition(\u001b[38;5;28mself\u001b[39m.cfg)\n\u001b[32m---> \u001b[39m\u001b[32m22\u001b[39m \u001b[38;5;28mself\u001b[39m.data_reader = \u001b[43mCementDataReader\u001b[49m\u001b[43m(\u001b[49m\n\u001b[32m     23\u001b[39m \u001b[43m    \u001b[49m\u001b[43minput_data_path\u001b[49m\u001b[43m=\u001b[49m\u001b[38;5;28;43mself\u001b[39;49m\u001b[43m.\u001b[49m\u001b[43mcfg\u001b[49m\u001b[43m.\u001b[49m\u001b[43minput_data_path\u001b[49m\u001b[43m,\u001b[49m\u001b[43m \u001b[49m\u001b[43mdefinition\u001b[49m\u001b[43m=\u001b[49m\u001b[38;5;28;43mself\u001b[39;49m\u001b[43m.\u001b[49m\u001b[43mdefinition\u001b[49m\n\u001b[32m     24\u001b[39m \u001b[43m\u001b[49m\u001b[43m)\u001b[49m\n\u001b[32m     25\u001b[39m \u001b[38;5;28mself\u001b[39m.data_writer = CementDataExporter(\n\u001b[32m     26\u001b[39m     cfg=\u001b[38;5;28mself\u001b[39m.cfg.visualization,\n\u001b[32m     27\u001b[39m     do_export=\u001b[38;5;28mself\u001b[39m.cfg.do_export,\n\u001b[32m     28\u001b[39m     output_path=\u001b[38;5;28mself\u001b[39m.cfg.output_path,\n\u001b[32m     29\u001b[39m )\n\u001b[32m     30\u001b[39m \u001b[38;5;28mself\u001b[39m.dims = \u001b[38;5;28mself\u001b[39m.data_reader.read_dimensions(\u001b[38;5;28mself\u001b[39m.definition.dimensions)\n",
      "\u001b[36mFile \u001b[39m\u001b[32mc:\\Users\\bennetwe\\Documents\\Code\\remind-mfa\\scripts\\..\\remind_mfa\\common\\custom_data_reader.py:22\u001b[39m, in \u001b[36mCustomDataReader.__init__\u001b[39m\u001b[34m(self, input_data_path, definition)\u001b[39m\n\u001b[32m     20\u001b[39m dimension_files = {}\n\u001b[32m     21\u001b[39m \u001b[38;5;28;01mfor\u001b[39;00m dimension \u001b[38;5;129;01min\u001b[39;00m definition.dimensions:\n\u001b[32m---> \u001b[39m\u001b[32m22\u001b[39m     dimension_filename = \u001b[38;5;28;43mself\u001b[39;49m\u001b[43m.\u001b[49m\u001b[43mdimension_map\u001b[49m\u001b[43m[\u001b[49m\u001b[43mdimension\u001b[49m\u001b[43m.\u001b[49m\u001b[43mname\u001b[49m\u001b[43m]\u001b[49m\n\u001b[32m     23\u001b[39m     dimension_files[dimension.name] = os.path.join(\n\u001b[32m     24\u001b[39m         \u001b[38;5;28mself\u001b[39m.input_data_path, \u001b[33m\"\u001b[39m\u001b[33mdimensions\u001b[39m\u001b[33m\"\u001b[39m, \u001b[33mf\u001b[39m\u001b[33m\"\u001b[39m\u001b[38;5;132;01m{\u001b[39;00mdimension_filename\u001b[38;5;132;01m}\u001b[39;00m\u001b[33m.csv\u001b[39m\u001b[33m\"\u001b[39m\n\u001b[32m     25\u001b[39m     )\n\u001b[32m     26\u001b[39m dimension_reader = fd.CSVDimensionReader(dimension_files)\n",
      "\u001b[31mKeyError\u001b[39m: 'Structure'"
     ]
    }
   ],
   "source": [
    "# first, I run the standard MFA\n",
    "from run_remind_mfa import run_remind_mfa\n",
    "\n",
    "cfg_file = \"../config/cement.yml\"\n",
    "run_remind_mfa(cfg_file)"
   ]
  }
 ],
 "metadata": {
  "kernelspec": {
   "display_name": ".venv",
   "language": "python",
   "name": "python3"
  },
  "language_info": {
   "codemirror_mode": {
    "name": "ipython",
    "version": 3
   },
   "file_extension": ".py",
   "mimetype": "text/x-python",
   "name": "python",
   "nbconvert_exporter": "python",
   "pygments_lexer": "ipython3",
   "version": "3.13.2"
  }
 },
 "nbformat": 4,
 "nbformat_minor": 5
}
